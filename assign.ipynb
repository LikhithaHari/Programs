{
 "cells": [
  {
   "cell_type": "code",
   "execution_count": 1,
   "metadata": {},
   "outputs": [
    {
     "name": "stdout",
     "output_type": "stream",
     "text": [
      "1 1\n",
      "1 2\n",
      "1 3\n",
      "2 1\n",
      "2 2\n",
      "2 3\n",
      "3 1\n",
      "3 2\n",
      "3 3\n"
     ]
    }
   ],
   "source": [
    "#nested while loop\n",
    "i=1\n",
    "while i<=3:\n",
    "    j=1\n",
    "    while j<=3:\n",
    "        print(i,j)\n",
    "        j+=1\n",
    "    i+=1\n"
   ]
  },
  {
   "cell_type": "code",
   "execution_count": 12,
   "metadata": {},
   "outputs": [
    {
     "name": "stdout",
     "output_type": "stream",
     "text": [
      "6\n",
      "24\n",
      "720\n"
     ]
    }
   ],
   "source": [
    "#factorial program\n",
    "n=int(input())\n",
    "\n",
    "while n>0:\n",
    "    d=n%10\n",
    "    fact=1\n",
    "    i=1\n",
    "    while i<=d:\n",
    "        fact=fact*i\n",
    "        i+=1\n",
    "    print(fact)\n",
    "    n=n//10"
   ]
  },
  {
   "cell_type": "code",
   "execution_count": 17,
   "metadata": {},
   "outputs": [
    {
     "name": "stdout",
     "output_type": "stream",
     "text": [
      "750\n"
     ]
    }
   ],
   "source": [
    "#strong number\n",
    "n=int(input())\n",
    "sum=0\n",
    "while n>0:\n",
    "    d=n%10\n",
    "    fact=1\n",
    "   \n",
    "    i=1\n",
    "    while i<=d:\n",
    "        fact=fact*i\n",
    "        i+=1\n",
    "    \n",
    "    sum+=fact\n",
    "    n=n//10\n",
    "print(sum)\n",
    "   \n"
   ]
  },
  {
   "cell_type": "code",
   "execution_count": 21,
   "metadata": {},
   "outputs": [
    {
     "name": "stdout",
     "output_type": "stream",
     "text": [
      "3\n",
      "27\n",
      "8\n",
      "1\n"
     ]
    }
   ],
   "source": [
    "n=int(input())\n",
    "n1=n\n",
    "c=0\n",
    "while n1>0:\n",
    "    d=n1%10\n",
    "    c+=1\n",
    "    n1=n1//10\n",
    "print(c)\n",
    "n1=n\n",
    "while n1>0:\n",
    "    d=n1%10\n",
    "    print(d**c)\n",
    "    n1=n1//10\n",
    "\n"
   ]
  },
  {
   "cell_type": "code",
   "execution_count": 24,
   "metadata": {},
   "outputs": [
    {
     "name": "stdout",
     "output_type": "stream",
     "text": [
      "not an armstrong\n"
     ]
    }
   ],
   "source": [
    "#armstrong number\n",
    "n=int(input())\n",
    "n1=n\n",
    "c=0\n",
    "while n1>0:\n",
    "    d=n1%10\n",
    "    c+=1\n",
    "    n1=n1//10\n",
    "\n",
    "n1=n\n",
    "s=0\n",
    "while n1>0:\n",
    "    d=n1%10\n",
    "    d1=(d**c)\n",
    "    n1=n1//10\n",
    "    s+=d1\n",
    "if (s==n):\n",
    "    print(\"armstrong\")\n",
    "else:\n",
    "    print(\"not an armstrong\")"
   ]
  },
  {
   "cell_type": "code",
   "execution_count": 29,
   "metadata": {},
   "outputs": [
    {
     "name": "stdout",
     "output_type": "stream",
     "text": [
      "1641\n"
     ]
    }
   ],
   "source": [
    "#tech number:A Tech number is a number that has an even number of digits and if the number is split into two equal halves(From the middle), then the square of the sum of these halves is equal to the number itself.\n",
    "\n",
    "#Examples: Input: n = 81    Output: True    Explanation: 8 + 1 = 9 and 92 = 81\n",
    "n=int(input())\n",
    "total=0\n",
    "while n>0:\n",
    "    if n%2==0:\n",
    "        total+=n\n",
    "    n-=1\n",
    "print(total+1)\n",
    "    "
   ]
  },
  {
   "cell_type": "code",
   "execution_count": 39,
   "metadata": {},
   "outputs": [
    {
     "name": "stdout",
     "output_type": "stream",
     "text": [
      "1\n",
      "64\n",
      "10\n",
      "not\n"
     ]
    }
   ],
   "source": [
    "#neon number:A neon number is a number where the sum of digits of square of the number is equal to the number.\n",
    "n=int(input())\n",
    "n1=n\n",
    "while n>0:\n",
    "    d=n%10\n",
    "    sq=d**2\n",
    "    print(sq)\n",
    "    n=n//10\n",
    "s=0\n",
    "while sq>0:\n",
    "    d=sq%10\n",
    "    s+=d\n",
    "    sq=sq//10\n",
    "print(s)\n",
    "if s==n1:\n",
    "\n",
    "    print(\"neon number\")\n",
    "else:\n",
    "    print(\"not\")\n",
    "\n",
    "\n"
   ]
  },
  {
   "cell_type": "code",
   "execution_count": 42,
   "metadata": {},
   "outputs": [
    {
     "name": "stdout",
     "output_type": "stream",
     "text": [
      "4\n",
      "1\n",
      "1\n",
      "not\n"
     ]
    }
   ],
   "source": [
    "n=int(input())\n",
    "n1=n\n",
    "while n>0:\n",
    "    d=n%10\n",
    "    sq=d**2\n",
    "    print(sq)\n",
    "    n=n//10\n",
    "\n",
    "s=0\n",
    "while sq>0:\n",
    "    d=sq%10\n",
    "    s+=d\n",
    "    sq=sq//10\n",
    "print(s)\n",
    "if s==n1:\n",
    "\n",
    "    print(\"neon number\")\n",
    "else:\n",
    "    print(\"not\")"
   ]
  }
 ],
 "metadata": {
  "kernelspec": {
   "display_name": "Python 3",
   "language": "python",
   "name": "python3"
  },
  "language_info": {
   "codemirror_mode": {
    "name": "ipython",
    "version": 3
   },
   "file_extension": ".py",
   "mimetype": "text/x-python",
   "name": "python",
   "nbconvert_exporter": "python",
   "pygments_lexer": "ipython3",
   "version": "3.12.2"
  }
 },
 "nbformat": 4,
 "nbformat_minor": 2
}
