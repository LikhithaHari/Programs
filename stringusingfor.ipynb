{
 "cells": [
  {
   "cell_type": "code",
   "execution_count": 1,
   "metadata": {},
   "outputs": [
    {
     "name": "stdout",
     "output_type": "stream",
     "text": [
      "hll wrld\n",
      "eoo\n"
     ]
    }
   ],
   "source": [
    "#125\n",
    "#\"hll wrld\",\"eoo\"\n",
    "st=\"hello world\"\n",
    "res=\"\"\n",
    "res1=\"\"\n",
    "for i in st:\n",
    "    if i not in \"AEIOuaeiou\":\n",
    "        res=res+i\n",
    "    else:\n",
    "        res1=res1+i\n",
    "print(res)\n",
    "print(res1)"
   ]
  },
  {
   "cell_type": "code",
   "execution_count": 6,
   "metadata": {},
   "outputs": [
    {
     "name": "stdout",
     "output_type": "stream",
     "text": [
      "hll wrld\n",
      "eoo\n",
      "12344\n"
     ]
    }
   ],
   "source": [
    "#126\n",
    "#\"hll wrld,\"eoo\",\"12344\"\n",
    "st=\"12hello3 4world4\"\n",
    "res=\"\"\n",
    "res1=\"\"\n",
    "res2=\"\"\n",
    "for i in st:\n",
    "    if  (i>=\"A\" and i<=\"Z\") or (i>=\"a\" and i<=\"z\") or i==\" \" :\n",
    "        if i not in \"AEIOuaeiou\" :\n",
    "            res=res+i\n",
    "        elif i in \"AEIOUaeiou\":\n",
    "            res1=res1+i\n",
    "    \n",
    "    \n",
    "    elif i>=\"0\" and i<=\"9\":\n",
    "        res2=res2+i\n",
    "print(res)\n",
    "print(res1)\n",
    "print(res2)\n",
    "    \n",
    "\n"
   ]
  },
  {
   "cell_type": "code",
   "execution_count": 9,
   "metadata": {},
   "outputs": [
    {
     "name": "stdout",
     "output_type": "stream",
     "text": [
      "hll wrld\n",
      "eoo\n",
      "12344\n",
      "(**$$#*)\n"
     ]
    }
   ],
   "source": [
    "#127 \"hll wrld\",\"eoo\",\"12344\",\"(*$$#*)\"\n",
    "st=\"(**12hello3$$4 #world4*)\"\n",
    "res=\"\"\n",
    "res1=\"\"\n",
    "res2=\"\"\n",
    "res3=\"\"\n",
    "for i in st:\n",
    "    if  (i>=\"A\" and i<=\"Z\") or (i>=\"a\" and i<=\"z\") or i==\" \" :\n",
    "        if i not in \"AEIOuaeiou\" :\n",
    "            res=res+i\n",
    "        elif i in \"AEIOUaeiou\":\n",
    "            res1=res1+i\n",
    "    \n",
    "    \n",
    "    elif i>=\"0\" and i<=\"9\":\n",
    "        res2=res2+i\n",
    "    else:\n",
    "        res3=res3+i\n",
    "print(res)\n",
    "print(res1)\n",
    "print(res2)\n",
    "print(res3)\n",
    "    "
   ]
  },
  {
   "cell_type": "code",
   "execution_count": 10,
   "metadata": {},
   "outputs": [
    {
     "name": "stdout",
     "output_type": "stream",
     "text": [
      ")*#$$**(\n",
      "44321\n",
      "ooe\n",
      "dlrw llh\n"
     ]
    }
   ],
   "source": [
    "#128&131 \")*#$$*(\" ,\"44321\" ,\"ooe\",\"dlrwllh\"\n",
    "\n",
    "st=\"(**12hello3$ $4#world4*)\"\n",
    "res=\"\"\n",
    "res1=\"\"\n",
    "res2=\"\"\n",
    "res3=\"\"\n",
    "for i in st:\n",
    "    if  (i>=\"A\" and i<=\"Z\") or (i>=\"a\" and i<=\"z\") or i==\" \" :\n",
    "        if i not in \"AEIOuaeiou\" :\n",
    "            res=i+res\n",
    "        elif i in \"AEIOUaeiou\":\n",
    "            res1=i+res1\n",
    "    elif i>=\"0\" and i<=\"9\":\n",
    "        res2=i+res2\n",
    "    else:\n",
    "        res3=i+res3\n",
    "print(res3)\n",
    "print(res2)\n",
    "print(res1)\n",
    "print(res)\n"
   ]
  },
  {
   "cell_type": "code",
   "execution_count": 11,
   "metadata": {},
   "outputs": [
    {
     "name": "stdout",
     "output_type": "stream",
     "text": [
      "h$ll*w*rld\n"
     ]
    }
   ],
   "source": [
    "#133 \"h$ll*w*rld\"\n",
    "st=\"HELLOWORLD\"\n",
    "res=\"\"\n",
    "for i in st:\n",
    "    if  i  not in \"AEIOuaeiou\":\n",
    "        res=res+chr(ord(i)+32)\n",
    "    else:\n",
    "        if i==\"E\":\n",
    "            res=res+\"$\"\n",
    "        elif i==\"O\":\n",
    "            res=res+\"*\"\n",
    "print(res)\n"
   ]
  },
  {
   "cell_type": "code",
   "execution_count": 16,
   "metadata": {},
   "outputs": [
    {
     "name": "stdout",
     "output_type": "stream",
     "text": [
      "hllwrld21\n"
     ]
    }
   ],
   "source": [
    "#134 \"hllwrld21\"\n",
    "st=\"123HELLO WORLD456\"\n",
    "res=\"\"\n",
    "sum=0\n",
    "for i in st:\n",
    "    if (i>=\"A\" and i<=\"Z\") or (i>=\"a\" and i<=\"z\"):\n",
    "        if i not in \"AEIOUaeiou\":\n",
    "            res=res+(chr(ord(i)+32))\n",
    "    elif (i>=\"0\" and i<=\"9\"):\n",
    "        sum=sum+int(i)\n",
    "print(res+str(sum))\n",
    "        \n"
   ]
  },
  {
   "cell_type": "code",
   "execution_count": 25,
   "metadata": {},
   "outputs": [
    {
     "name": "stdout",
     "output_type": "stream",
     "text": [
      "123hEllO wOrld456\n"
     ]
    }
   ],
   "source": [
    "#135 \"123hEll0 wOrld456\"\n",
    "st=\"123HELLO WORLD456\"\n",
    "res=\"\"\n",
    "for i in st:\n",
    "    if (i>=\"A\" and i<=\"Z\") or (i>=\"a\" and i<=\"z\"):\n",
    "        if i not in \"AEIOU\":\n",
    "            res=res+chr(ord(i)+32)\n",
    "        else:\n",
    "            res=res+i\n",
    "    elif i>=\"0\" and  i<=\"9\":\n",
    "        res=res+i\n",
    "    elif i==\" \":\n",
    "        res=res+i\n",
    "print(res)"
   ]
  },
  {
   "cell_type": "code",
   "execution_count": 26,
   "metadata": {},
   "outputs": [
    {
     "name": "stdout",
     "output_type": "stream",
     "text": [
      "321hEllO wOrld654\n"
     ]
    }
   ],
   "source": [
    "#136 \"321hEllO wOrld654\"\n",
    "st=\"123HELLO WORLD456\"\n",
    "res=\"\"\n",
    "res1=\"\"\n",
    "res2=\"\"\n",
    "for i in st:\n",
    "    if (i>=\"A\" and i<=\"Z\") or (i>=\"a\" and i<=\"z\"):\n",
    "        if i not in \"AEIOu\":\n",
    "            res=res+(chr(ord(i)+32))\n",
    "        else:\n",
    "            res=res+i\n",
    "    elif i>=\"0\" and i<=\"3\":\n",
    "        res1=i+res1\n",
    "    elif i>=\"4\" and i<=\"9\":\n",
    "        res2=i+res2\n",
    "    elif i==\" \":\n",
    "        res=res+i\n",
    "print(res1+res+res2)\n"
   ]
  },
  {
   "cell_type": "code",
   "execution_count": 28,
   "metadata": {},
   "outputs": [
    {
     "name": "stdout",
     "output_type": "stream",
     "text": [
      "321*E**O *O***654\n"
     ]
    }
   ],
   "source": [
    "#137 \"321*E**O *O***654\"\n",
    "st=\"123HELLO WORLD456\"\n",
    "res=\"\"\n",
    "res1=\"\"\n",
    "res2=\"\"\n",
    "for i in st:\n",
    "    if (i>=\"A\" and i<=\"Z\") or (i>=\"a\" and i<=\"z\"):\n",
    "        if i not in \"AEIOU\":\n",
    "            res=res+\"*\"\n",
    "        elif i in \"AEIOu\":\n",
    "            res=res+i\n",
    "    elif i>=\"0\" and i<=\"3\":\n",
    "        res1=i+res1\n",
    "    elif i>=\"4\" and i<=\"9\":\n",
    "        res2=i+res2\n",
    "    elif i==\" \":\n",
    "        res=res+i\n",
    "print(res1+res+res2)\n",
    "\n",
    "\n",
    "\n"
   ]
  },
  {
   "cell_type": "code",
   "execution_count": 29,
   "metadata": {},
   "outputs": [
    {
     "name": "stdout",
     "output_type": "stream",
     "text": [
      "123*E**O *O***456\n"
     ]
    }
   ],
   "source": [
    "#138  \"123*E**O *O***456\"\n",
    "st=\"123HELLO WORLD456\"\n",
    "res=\"\"\n",
    "res1=\"\"\n",
    "res2=\"\"\n",
    "for i in st:\n",
    "    if (i>=\"A\" and i<=\"Z\") or (i>=\"a\" and i<=\"z\"):\n",
    "        if i not in \"AEIOU\":\n",
    "            res=res+\"*\"\n",
    "        elif i in \"AEIOu\":\n",
    "            res=res+i\n",
    "    elif i>=\"0\" and i<=\"3\":\n",
    "        res1=res1+i\n",
    "    elif i>=\"4\" and i<=\"9\":\n",
    "        res2=res2+i\n",
    "    elif i==\" \":\n",
    "        res=res+i\n",
    "print(res1+res+res2)"
   ]
  },
  {
   "cell_type": "code",
   "execution_count": 34,
   "metadata": {},
   "outputs": [
    {
     "name": "stdout",
     "output_type": "stream",
     "text": [
      "axbycz\n"
     ]
    }
   ],
   "source": [
    "#140 \"axbycz\"\n",
    "st1=\"abc\"\n",
    "st2=\"xyz\"\n",
    "res=\"\"\n",
    "for i in st1:\n",
    "    res=res+i\n",
    "    for j in st2:\n",
    "        if j in res:\n",
    "            res=res\n",
    "        else:\n",
    "            res=res+j\n",
    "            break\n",
    "            \n",
    "\n",
    "print(res)"
   ]
  },
  {
   "cell_type": "code",
   "execution_count": 39,
   "metadata": {},
   "outputs": [
    {
     "name": "stdout",
     "output_type": "stream",
     "text": [
      "axbyczw\n"
     ]
    }
   ],
   "source": [
    "#141\n",
    "st1=\"abc\"\n",
    "st2=\"xyzw\"\n",
    "res=\"\"\n",
    "n1=len(st1)\n",
    "n2=len(st2)\n",
    "great=n1\n",
    "small=n2\n",
    "if n1<n2:\n",
    "\n",
    "    great=n2\n",
    "    small=n1\n",
    "i=0\n",
    "while i<great:\n",
    "    if i<small:\n",
    "        res=res+st1[i]+st2[i]\n",
    "    else:\n",
    "        res=res+st2[i]\n",
    "    i+=1\n",
    "print(res)\n"
   ]
  },
  {
   "cell_type": "code",
   "execution_count": 40,
   "metadata": {},
   "outputs": [
    {
     "name": "stdout",
     "output_type": "stream",
     "text": [
      "axbyczd\n"
     ]
    }
   ],
   "source": [
    "#142\n",
    "st1=\"abcd\"\n",
    "st2=\"xyz\"\n",
    "res=\"\"\n",
    "n1=len(st1)\n",
    "n2=len(st2)\n",
    "great=n1\n",
    "small=n2\n",
    "if n1<n2:\n",
    "    great=n2\n",
    "    small=n1\n",
    "i=0\n",
    "while i<great:\n",
    "    if i<small:\n",
    "        res=res+st1[i]+st2[i]\n",
    "    else:\n",
    "        res=res+st1[i]\n",
    "    i+=1\n",
    "print(res)"
   ]
  },
  {
   "cell_type": "code",
   "execution_count": 41,
   "metadata": {},
   "outputs": [
    {
     "name": "stdout",
     "output_type": "stream",
     "text": [
      "axbyczwop\n"
     ]
    }
   ],
   "source": [
    "#143\n",
    "st1=\"abc\"\n",
    "st2=\"xyzwop\"\n",
    "res=\"\"\n",
    "n1=len(st1)\n",
    "n2=len(st2)\n",
    "great=n1\n",
    "small=n2\n",
    "if n1<n2:\n",
    "\n",
    "    great=n2\n",
    "    small=n1\n",
    "i=0\n",
    "while i<great:\n",
    "    if i<small:\n",
    "        res=res+st1[i]+st2[i]\n",
    "    else:\n",
    "        res=res+st2[i]\n",
    "    i+=1\n",
    "print(res)"
   ]
  },
  {
   "cell_type": "code",
   "execution_count": 47,
   "metadata": {},
   "outputs": [
    {
     "name": "stdout",
     "output_type": "stream",
     "text": [
      "a1b2c3\n"
     ]
    }
   ],
   "source": [
    "#144\n",
    "st=\"abc123\"\n",
    "alp=\"\"\n",
    "dig=\"\"\n",
    "res=\"\"\n",
    "for i in st:\n",
    "    if (i>=\"A\" and i<=\"Z\") or (i>=\"a\"and i<=\"z\"):\n",
    "        alp+=i\n",
    "    else:\n",
    "        dig+=i\n",
    "for j in alp:\n",
    "    res=res+j\n",
    "    for k in dig:\n",
    "        if k in res:\n",
    "            res=res\n",
    "        else:\n",
    "            res=res+k\n",
    "            break\n",
    "print(res)"
   ]
  },
  {
   "cell_type": "code",
   "execution_count": 48,
   "metadata": {},
   "outputs": [
    {
     "name": "stdout",
     "output_type": "stream",
     "text": [
      "a1b2c\n"
     ]
    }
   ],
   "source": [
    "#145\n",
    "st=\"abc12\"\n",
    "alp=\"\"\n",
    "dig=\"\"\n",
    "res=\"\"\n",
    "for i in st:\n",
    "    if (i>=\"A\" and i<=\"Z\") or (i>=\"a\"and i<=\"z\"):\n",
    "        alp+=i\n",
    "    else:\n",
    "        dig+=i\n",
    "for j in alp:\n",
    "    res=res+j\n",
    "    for k in dig:\n",
    "        if k in res:\n",
    "            res=res\n",
    "        else:\n",
    "            res=res+k\n",
    "            break\n",
    "print(res)"
   ]
  },
  {
   "cell_type": "code",
   "execution_count": 52,
   "metadata": {},
   "outputs": [
    {
     "name": "stdout",
     "output_type": "stream",
     "text": [
      "a1b2c34\n"
     ]
    }
   ],
   "source": [
    "#146\n",
    "st=\"abc1234\"\n",
    "alp=\"\"\n",
    "dig=\"\"\n",
    "res=\"\"\n",
    "for i in st:\n",
    "    if (i>=\"A\" and i<=\"Z\") or (i>=\"a\"and i<=\"z\"):\n",
    "        alp+=i\n",
    "    else:\n",
    "        dig+=i\n",
    "for j in dig:\n",
    "    \n",
    "    for k in alp:\n",
    "        if k in res:\n",
    "            res=res\n",
    "        else:\n",
    "            res=res+k\n",
    "            break\n",
    "    res=res+j\n",
    "print(res)"
   ]
  },
  {
   "cell_type": "code",
   "execution_count": 53,
   "metadata": {},
   "outputs": [
    {
     "name": "stdout",
     "output_type": "stream",
     "text": [
      "a1b2c34\n"
     ]
    }
   ],
   "source": [
    "#147\n",
    "st=\"1a2bc34\"\n",
    "alp=\"\"\n",
    "dig=\"\"\n",
    "res=\"\"\n",
    "for i in st:\n",
    "    if (i>=\"A\" and i<=\"Z\") or (i>=\"a\"and i<=\"z\"):\n",
    "        alp+=i\n",
    "    else:\n",
    "        dig+=i\n",
    "for j in dig:\n",
    "    \n",
    "    for k in alp:\n",
    "        if k in res:\n",
    "            res=res\n",
    "        else:\n",
    "            res=res+k\n",
    "            break\n",
    "    res=res+j\n",
    "print(res)"
   ]
  },
  {
   "cell_type": "code",
   "execution_count": 56,
   "metadata": {},
   "outputs": [
    {
     "name": "stdout",
     "output_type": "stream",
     "text": [
      "3\n"
     ]
    }
   ],
   "source": [
    "3148\n",
    "st=\"abcdnmpoijkl12yzabcd5\"\n",
    "count=0\n",
    "for i in st:\n",
    "    if i>=\"0\" and i<=\"9\":\n",
    "        count+=1\n",
    "print(count)"
   ]
  },
  {
   "cell_type": "code",
   "execution_count": 59,
   "metadata": {},
   "outputs": [
    {
     "name": "stdout",
     "output_type": "stream",
     "text": [
      "HA1I2I3 HE4LLO5\n"
     ]
    }
   ],
   "source": [
    "#149\n",
    "st=\"HAII HELLO\"\n",
    "i=0\n",
    "j=1\n",
    "res=\"\"\n",
    "while i<len(st):\n",
    "    if st[i] in \"AEIOuaeiou\":\n",
    "        res=res+st[i]+str(j)\n",
    "        j+=1\n",
    "    else:\n",
    "        res=res+st[i]\n",
    "    i+=1\n",
    "print(res)\n"
   ]
  },
  {
   "cell_type": "code",
   "execution_count": 60,
   "metadata": {},
   "outputs": [
    {
     "name": "stdout",
     "output_type": "stream",
     "text": [
      "H1AII 2H3EL4L5O\n"
     ]
    }
   ],
   "source": [
    "#150\n",
    "st=\"HAII HELLO\"\n",
    "i=0\n",
    "j=1\n",
    "res=\"\"\n",
    "while i<len(st):\n",
    "    if st[i]  not in \"AEIOuaeiou\":\n",
    "        res=res+st[i]+str(j)\n",
    "        j+=1\n",
    "    else:\n",
    "        res=res+st[i]\n",
    "    i+=1\n",
    "print(res)"
   ]
  }
 ],
 "metadata": {
  "kernelspec": {
   "display_name": "Python 3",
   "language": "python",
   "name": "python3"
  },
  "language_info": {
   "codemirror_mode": {
    "name": "ipython",
    "version": 3
   },
   "file_extension": ".py",
   "mimetype": "text/x-python",
   "name": "python",
   "nbconvert_exporter": "python",
   "pygments_lexer": "ipython3",
   "version": "undefined.undefined.undefined"
  }
 },
 "nbformat": 4,
 "nbformat_minor": 2
}
