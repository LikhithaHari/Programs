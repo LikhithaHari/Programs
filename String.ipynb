{
 "cells": [
  {
   "cell_type": "code",
   "execution_count": 1,
   "metadata": {},
   "outputs": [
    {
     "name": "stdout",
     "output_type": "stream",
     "text": [
      "<class 'str'>\n",
      "hello man ....\n"
     ]
    }
   ],
   "source": [
    "var='hello man ....'\n",
    "print(type(var))\n",
    "print(var)"
   ]
  },
  {
   "cell_type": "code",
   "execution_count": 2,
   "metadata": {},
   "outputs": [
    {
     "name": "stdout",
     "output_type": "stream",
     "text": [
      "Hello Im Reporter Sam.\n",
      "I \"want\" to catch a news,\n",
      "so I can telecast tomorrow\n"
     ]
    }
   ],
   "source": [
    "s='''Hello Im Reporter Sam.\n",
    "I \"want\" to catch a news,\n",
    "so I can telecast tomorrow'''\n",
    "print(s)"
   ]
  },
  {
   "cell_type": "code",
   "execution_count": 3,
   "metadata": {},
   "outputs": [
    {
     "name": "stdout",
     "output_type": "stream",
     "text": [
      "<class 'str'>\n",
      "Likhitha\n"
     ]
    }
   ],
   "source": [
    "#string supports indexing\n",
    "st=\"Likhitha\"\n",
    "print(type(st))\n",
    "print(st)"
   ]
  },
  {
   "cell_type": "code",
   "execution_count": 9,
   "metadata": {},
   "outputs": [
    {
     "name": "stdout",
     "output_type": "stream",
     "text": [
      "i\n",
      "h\n",
      "a\n",
      "h\n"
     ]
    }
   ],
   "source": [
    "#single character\n",
    "st=\"Likhitha\"\n",
    "v=st[1]\n",
    "print(v)\n",
    "print(st[3])\n",
    "print(st[7])\n",
    "print(st[-5])"
   ]
  },
  {
   "cell_type": "code",
   "execution_count": 11,
   "metadata": {},
   "outputs": [
    {
     "name": "stdout",
     "output_type": "stream",
     "text": [
      "dinga\n",
      "rani\n"
     ]
    }
   ],
   "source": [
    "#string is immmutable\n",
    "st=\"dinga\"\n",
    "print(st)\n",
    "st=\"rani\"\n",
    "print(st)"
   ]
  },
  {
   "cell_type": "code",
   "execution_count": 12,
   "metadata": {},
   "outputs": [
    {
     "name": "stdout",
     "output_type": "stream",
     "text": [
      "aaabbbccc\n"
     ]
    }
   ],
   "source": [
    "#string allows duplicate characters\n",
    "st=\"aaabbbccc\"\n",
    "print(st)"
   ]
  }
 ],
 "metadata": {
  "kernelspec": {
   "display_name": "Python 3",
   "language": "python",
   "name": "python3"
  },
  "language_info": {
   "codemirror_mode": {
    "name": "ipython",
    "version": 3
   },
   "file_extension": ".py",
   "mimetype": "text/x-python",
   "name": "python",
   "nbconvert_exporter": "python",
   "pygments_lexer": "ipython3",
   "version": "3.12.2"
  }
 },
 "nbformat": 4,
 "nbformat_minor": 2
}
