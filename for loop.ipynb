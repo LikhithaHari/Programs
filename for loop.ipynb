{
 "cells": [
  {
   "cell_type": "code",
   "execution_count": 1,
   "metadata": {},
   "outputs": [
    {
     "name": "stdout",
     "output_type": "stream",
     "text": [
      "a\n",
      "b\n",
      "c\n"
     ]
    }
   ],
   "source": [
    "st=input()\n",
    "for i in st:\n",
    "    if (i>='a'and i<='z') or (i>='A' and i<='Z'):\n",
    "        print(i)"
   ]
  },
  {
   "cell_type": "code",
   "execution_count": 2,
   "metadata": {},
   "outputs": [
    {
     "name": "stdout",
     "output_type": "stream",
     "text": [
      "1\n",
      "2\n",
      "3\n"
     ]
    }
   ],
   "source": [
    "st=input()\n",
    "for i in st:\n",
    "    if (i>='0'and i<='9') :\n",
    "        print(i)"
   ]
  },
  {
   "cell_type": "code",
   "execution_count": 5,
   "metadata": {},
   "outputs": [
    {
     "name": "stdout",
     "output_type": "stream",
     "text": [
      "@\n",
      "#\n",
      "$\n"
     ]
    }
   ],
   "source": [
    "st=input()\n",
    "for i in st:\n",
    "    if (not((i>='a'and i<='z') or (i>='A' and i<='Z') or (i>='0'and i<='9'))):\n",
    "        print(i)"
   ]
  },
  {
   "cell_type": "code",
   "execution_count": 7,
   "metadata": {},
   "outputs": [],
   "source": [
    "st=input()\n",
    "for i in st:\n",
    "    if i in \"AEIOUaeiou\" :\n",
    "        print(i)"
   ]
  },
  {
   "cell_type": "code",
   "execution_count": 8,
   "metadata": {},
   "outputs": [
    {
     "name": "stdout",
     "output_type": "stream",
     "text": [
      "b\n",
      "c\n",
      "d\n"
     ]
    }
   ],
   "source": [
    "st=input()\n",
    "for i in st:\n",
    "    if (i>='a'and i<='z') or (i>='A' and i<='Z') :\n",
    "        if i not in \"AEIOUaeiou\":\n",
    "            print(i)"
   ]
  },
  {
   "cell_type": "code",
   "execution_count": 59,
   "metadata": {},
   "outputs": [
    {
     "name": "stdout",
     "output_type": "stream",
     "text": [
      "15\n"
     ]
    }
   ],
   "source": [
    "st=input()\n",
    "sum=0\n",
    "for i in st:\n",
    "    if (i>='0'and i<='9')  :\n",
    "        sum+=int(i)\n",
    "print(sum)"
   ]
  },
  {
   "cell_type": "code",
   "execution_count": null,
   "metadata": {},
   "outputs": [],
   "source": []
  },
  {
   "cell_type": "code",
   "execution_count": 58,
   "metadata": {},
   "outputs": [
    {
     "name": "stdout",
     "output_type": "stream",
     "text": [
      "16\n"
     ]
    }
   ],
   "source": [
    "st=input()\n",
    "count=0\n",
    "for i in st:\n",
    "    count+=1\n",
    "print(count)"
   ]
  },
  {
   "cell_type": "code",
   "execution_count": 15,
   "metadata": {},
   "outputs": [
    {
     "name": "stdout",
     "output_type": "stream",
     "text": [
      "A\n",
      "B\n",
      "C\n",
      "a\n",
      "b\n",
      "@\n",
      "1\n",
      "2\n"
     ]
    }
   ],
   "source": [
    "st=input()\n",
    "for i in st:\n",
    "    if (i>='A' and i<='Z') :\n",
    "        n=ord(i)+32\n",
    "        print(chr(n))\n",
    "    elif i>='a' and i<='z':\n",
    "        n=ord(i)-32\n",
    "        print(chr(n))\n",
    "    else:\n",
    "        print(i)"
   ]
  },
  {
   "cell_type": "code",
   "execution_count": 52,
   "metadata": {},
   "outputs": [
    {
     "name": "stdout",
     "output_type": "stream",
     "text": [
      "not a  strong password\n"
     ]
    }
   ],
   "source": [
    "#strong password\n",
    "st=input()\n",
    "c=0\n",
    "for i in st:\n",
    "    c+=1\n",
    "if c>=8:\n",
    "    upper_case=False\n",
    "    lower_case=False\n",
    "    Digit=False\n",
    "    Symbol=False\n",
    "    for i in st:\n",
    "        if (i>='A' and i<='Z'):\n",
    "            upper_case=True\n",
    "        elif (i>='a'and i<='z'):\n",
    "            lower_case=True\n",
    "        elif (i>='0'and i<='9'):\n",
    "            Digit=True\n",
    "        else:\n",
    "            Symbol=True\n",
    "if (upper_case and lower_case and Digit and Symbol):\n",
    "    print(\"strong password\")\n",
    "else:\n",
    "    print(\"not a  strong password\")\n",
    "\n"
   ]
  },
  {
   "cell_type": "code",
   "execution_count": 18,
   "metadata": {},
   "outputs": [
    {
     "name": "stdout",
     "output_type": "stream",
     "text": [
      "abc\n"
     ]
    }
   ],
   "source": [
    "#concatenation programs\n",
    "st=input()\n",
    "res=\"\"\n",
    "for i in st:\n",
    "    if (i>='A'and i<='Z') or (i>='a' and i<='z'):\n",
    "        res+=i\n",
    "print(res)"
   ]
  },
  {
   "cell_type": "code",
   "execution_count": 19,
   "metadata": {},
   "outputs": [
    {
     "name": "stdout",
     "output_type": "stream",
     "text": [
      "123\n"
     ]
    }
   ],
   "source": [
    "st=input()\n",
    "res=\"\"\n",
    "for i in st:\n",
    "    if (i>='0'and i<='9') :\n",
    "        res+=i\n",
    "print(res)"
   ]
  },
  {
   "cell_type": "code",
   "execution_count": 21,
   "metadata": {},
   "outputs": [
    {
     "name": "stdout",
     "output_type": "stream",
     "text": [
      "@#\n"
     ]
    }
   ],
   "source": [
    "st=input()\n",
    "res=\"\"\n",
    "for i in st:\n",
    "    if not((i>='A'and i<='Z') or (i>='a' and i<='z') or (i>='0'and i<='9') ):\n",
    "        res+=i\n",
    "print(res)"
   ]
  },
  {
   "cell_type": "code",
   "execution_count": 22,
   "metadata": {},
   "outputs": [
    {
     "name": "stdout",
     "output_type": "stream",
     "text": [
      "ae\n"
     ]
    }
   ],
   "source": [
    "st=input()\n",
    "res=\"\"\n",
    "for i in st:\n",
    "    if i in \"AEIOUaeiou\":\n",
    "        \n",
    "        res+=i\n",
    "print(res)"
   ]
  },
  {
   "cell_type": "code",
   "execution_count": 26,
   "metadata": {},
   "outputs": [
    {
     "name": "stdout",
     "output_type": "stream",
     "text": [
      "bcd\n"
     ]
    }
   ],
   "source": [
    "st=input()\n",
    "res=\"\"\n",
    "for i in st:\n",
    "    if (i>='A'and i<='Z') or (i>='a' and i<='z') :\n",
    "           if i not in \"AEIOuaeiou\":\n",
    "                res+=i\n",
    "print(res)"
   ]
  },
  {
   "cell_type": "code",
   "execution_count": 29,
   "metadata": {},
   "outputs": [
    {
     "name": "stdout",
     "output_type": "stream",
     "text": [
      "hi-how-r-u\n"
     ]
    }
   ],
   "source": [
    "st=input()\n",
    "res=\"\"\n",
    "for i in st:\n",
    "    if i==\" \":\n",
    "        res=res+\"-\"\n",
    "    else:\n",
    "        res+=i\n",
    "print(res)"
   ]
  },
  {
   "cell_type": "code",
   "execution_count": 31,
   "metadata": {},
   "outputs": [
    {
     "name": "stdout",
     "output_type": "stream",
     "text": [
      "abcdABCD@123\n"
     ]
    }
   ],
   "source": [
    "st=input()\n",
    "res=\"\"\n",
    "for i in st:\n",
    "    if (i>='A' and i<='Z'):\n",
    "        n=ord(i)+32\n",
    "        res+=chr(n)\n",
    "    elif (i>='a' and i<='z'):\n",
    "        n=ord(i)-32\n",
    "        res+=chr(n)\n",
    "    else:\n",
    "        res+=i\n",
    "print(res)\n",
    "\n"
   ]
  },
  {
   "cell_type": "code",
   "execution_count": 33,
   "metadata": {},
   "outputs": [
    {
     "name": "stdout",
     "output_type": "stream",
     "text": [
      "AbcdE@123ab\n"
     ]
    }
   ],
   "source": [
    "st=input()\n",
    "res=\"\"\n",
    "for i in st:\n",
    "    if i in \"AEIOU\":\n",
    "        n=ord(i)+32\n",
    "        res+=chr(n)\n",
    "    elif i in \"aeiou\":\n",
    "        n=ord(i)-32\n",
    "        res+=chr(n)\n",
    "    else:\n",
    "        res+=i\n",
    "print(res)"
   ]
  },
  {
   "cell_type": "code",
   "execution_count": 35,
   "metadata": {},
   "outputs": [
    {
     "name": "stdout",
     "output_type": "stream",
     "text": [
      "abcd\n"
     ]
    }
   ],
   "source": [
    "st=input()\n",
    "res=\"\"\n",
    "for i in st:\n",
    "    if i not in res:\n",
    "        res+=i\n",
    "print(res)\n"
   ]
  },
  {
   "cell_type": "code",
   "execution_count": 39,
   "metadata": {},
   "outputs": [
    {
     "name": "stdout",
     "output_type": "stream",
     "text": [
      "jkuioqrty98@#!\n"
     ]
    }
   ],
   "source": [
    "st=input()\n",
    "res_alpha=\"\"\n",
    "res_digit=\"\"\n",
    "res_symbol=\"\"\n",
    "for i in st:\n",
    "    if (i>='A' and i<='Z') or (i>='a' and i<='z'):\n",
    "        res_alpha+=i\n",
    "    elif i>='0' and i<='9':\n",
    "        res_digit+=i\n",
    "    else:\n",
    "        res_symbol+=i\n",
    "print(res_alpha+res_digit+res_symbol)"
   ]
  },
  {
   "cell_type": "code",
   "execution_count": 42,
   "metadata": {},
   "outputs": [
    {
     "name": "stdout",
     "output_type": "stream",
     "text": [
      "ajet\n"
     ]
    }
   ],
   "source": [
    "st=input()\n",
    "res=\"\"\n",
    "for i in st:\n",
    "    res=i+res\n",
    "print(res)"
   ]
  },
  {
   "cell_type": "code",
   "execution_count": 1,
   "metadata": {},
   "outputs": [
    {
     "name": "stdout",
     "output_type": "stream",
     "text": [
      "a a\n",
      "a b\n",
      "a c\n",
      "b a\n",
      "b b\n",
      "b c\n",
      "c a\n",
      "c b\n",
      "c c\n"
     ]
    }
   ],
   "source": [
    "st=\"abc\"\n",
    "for i in st:\n",
    "    for j in st:\n",
    "        print(i,j)"
   ]
  },
  {
   "cell_type": "code",
   "execution_count": 5,
   "metadata": {},
   "outputs": [
    {
     "name": "stdout",
     "output_type": "stream",
     "text": [
      "2\n",
      "2\n",
      "2\n",
      "1\n",
      "2\n",
      "2\n",
      "2\n"
     ]
    }
   ],
   "source": [
    "st=\"abcdabc\"\n",
    "for i in st:\n",
    "    c=0\n",
    "    ch=i\n",
    "    for j in st:\n",
    "        \n",
    "        if ch==j:\n",
    "            c+=1\n",
    "    print(c)"
   ]
  },
  {
   "cell_type": "code",
   "execution_count": 10,
   "metadata": {},
   "outputs": [
    {
     "name": "stdout",
     "output_type": "stream",
     "text": [
      "b 19\n"
     ]
    }
   ],
   "source": [
    "st=\"abcabbbbbbbbbbbbbbbbbaabc\"\n",
    "max_count=0\n",
    "max_char=\"\"\n",
    "for i in st:\n",
    "    c=0\n",
    "    ch=i\n",
    "    for j in st:\n",
    "        if ch==j:\n",
    "            c+=1\n",
    "\n",
    "    if c>max_count:\n",
    "            max_count=c\n",
    "            max_char=ch\n",
    "print(max_char,max_count)\n"
   ]
  },
  {
   "cell_type": "code",
   "execution_count": 11,
   "metadata": {},
   "outputs": [
    {
     "name": "stdout",
     "output_type": "stream",
     "text": [
      "eoo123aii\n"
     ]
    }
   ],
   "source": [
    "#1 'eoo123aii'\n",
    "st='hello world 123 haii'\n",
    "s=\"\"\n",
    "for i in st:\n",
    "    if i in \"AEIOUaeiou\" or i>='0' and i<='9':\n",
    "        s+=i\n",
    "print(s)\n"
   ]
  },
  {
   "cell_type": "code",
   "execution_count": 12,
   "metadata": {},
   "outputs": [
    {
     "name": "stdout",
     "output_type": "stream",
     "text": [
      "eo o 123 aii\n"
     ]
    }
   ],
   "source": [
    "#2 'eo o 123 aii'\n",
    "st=\"hello world 123 haii\"\n",
    "s=\"\"\n",
    "for i in st:\n",
    "    if i in \"AEIOUaeiou\" or i>='0' and i<='9' or i==\" \":\n",
    "        s+=i\n",
    "print(s)\n"
   ]
  },
  {
   "cell_type": "code",
   "execution_count": 13,
   "metadata": {},
   "outputs": [
    {
     "name": "stdout",
     "output_type": "stream",
     "text": [
      "eo o  aii\n"
     ]
    }
   ],
   "source": [
    "#3 'eo o aii'\n",
    "sr=\"hello world 123 haii\"\n",
    "s=\"\"\n",
    "for i in st:\n",
    "    if i in \"AEIOUaeiou\" or i==\" \":\n",
    "        s+=i\n",
    "print(s)"
   ]
  },
  {
   "cell_type": "code",
   "execution_count": 15,
   "metadata": {},
   "outputs": [
    {
     "name": "stdout",
     "output_type": "stream",
     "text": [
      "hll wrld\n",
      "eoo\n"
     ]
    }
   ],
   "source": [
    "#5  \"hll wrld\",\"eoo\"\n",
    "st=\"hello world\"\n",
    "s=\"\"\n",
    "s1=\"\"\n",
    "for i in st:\n",
    "    if i not in \"AEIOUaeiou\":\n",
    "        s+=i\n",
    "    elif i in \"AEIOUaeiou\":\n",
    "        s1+=i\n",
    "print(s)\n",
    "print(s1)"
   ]
  }
 ],
 "metadata": {
  "kernelspec": {
   "display_name": "Python 3",
   "language": "python",
   "name": "python3"
  },
  "language_info": {
   "codemirror_mode": {
    "name": "ipython",
    "version": 3
   },
   "file_extension": ".py",
   "mimetype": "text/x-python",
   "name": "python",
   "nbconvert_exporter": "python",
   "pygments_lexer": "ipython3",
   "version": "3.12.2"
  }
 },
 "nbformat": 4,
 "nbformat_minor": 2
}
