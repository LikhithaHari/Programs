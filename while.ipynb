{
 "cells": [
  {
   "cell_type": "code",
   "execution_count": 1,
   "metadata": {},
   "outputs": [
    {
     "name": "stdout",
     "output_type": "stream",
     "text": [
      "3\n",
      "2\n",
      "1\n"
     ]
    }
   ],
   "source": [
    "n=int(input())\n",
    "while n>0:\n",
    "    digit =n%10\n",
    "    print(digit)\n",
    "    n=n//10\n",
    "    "
   ]
  },
  {
   "cell_type": "code",
   "execution_count": 2,
   "metadata": {},
   "outputs": [
    {
     "name": "stdout",
     "output_type": "stream",
     "text": [
      "6\n"
     ]
    }
   ],
   "source": [
    "n=int(input())\n",
    "sum=0\n",
    "while n>0:\n",
    "    digit =n%10\n",
    "    sum=sum+digit\n",
    "    n=n//10\n",
    "print(sum)\n"
   ]
  },
  {
   "cell_type": "code",
   "execution_count": 5,
   "metadata": {},
   "outputs": [
    {
     "name": "stdout",
     "output_type": "stream",
     "text": [
      "9\n"
     ]
    }
   ],
   "source": [
    "n=int(input())\n",
    "sum=0\n",
    "while n>0:\n",
    "    digit=n%10\n",
    "    if digit %3==0:\n",
    "        sum=sum+digit\n",
    "    n=n//10\n",
    "print(sum)"
   ]
  },
  {
   "cell_type": "code",
   "execution_count": 6,
   "metadata": {},
   "outputs": [
    {
     "name": "stdout",
     "output_type": "stream",
     "text": [
      "6\n"
     ]
    }
   ],
   "source": [
    "n=int(input())\n",
    "prod=1\n",
    "while n>0:\n",
    "    digit=n%10\n",
    "    prod=prod * digit\n",
    "    n=n//10\n",
    "print(prod)"
   ]
  },
  {
   "cell_type": "code",
   "execution_count": 8,
   "metadata": {},
   "outputs": [
    {
     "name": "stdout",
     "output_type": "stream",
     "text": [
      "15\n"
     ]
    }
   ],
   "source": [
    "n=int(input())\n",
    "prod=1\n",
    "while n>0:\n",
    "    digit =n%10\n",
    "    if digit%2==1:\n",
    "        prod=prod*digit\n",
    "    n=n//10\n",
    "print(prod)\n"
   ]
  },
  {
   "cell_type": "code",
   "execution_count": 13,
   "metadata": {},
   "outputs": [
    {
     "name": "stdout",
     "output_type": "stream",
     "text": [
      "3\n",
      "1\n"
     ]
    }
   ],
   "source": [
    "n=int(input())\n",
    "while n>0:\n",
    "    digit=n%10\n",
    "    if digit % 2==1:\n",
    "        print(digit)\n",
    "       \n",
    "    n=n//10\n",
    "\n"
   ]
  },
  {
   "cell_type": "code",
   "execution_count": 16,
   "metadata": {},
   "outputs": [
    {
     "name": "stdout",
     "output_type": "stream",
     "text": [
      "4\n",
      "1\n"
     ]
    }
   ],
   "source": [
    "n=int(input())\n",
    "digit=n%10\n",
    "print(digit)\n",
    "while n>0:\n",
    "    digit=n%10\n",
    "    \n",
    "    n=n//10\n",
    "print(digit)"
   ]
  },
  {
   "cell_type": "code",
   "execution_count": 28,
   "metadata": {},
   "outputs": [
    {
     "name": "stdout",
     "output_type": "stream",
     "text": [
      "5\n",
      "2\n",
      "123\n",
      "3\n"
     ]
    }
   ],
   "source": [
    "#print middle digit\n",
    "n=int(input())\n",
    "count=0\n",
    "n1=n\n",
    "while n1>0:\n",
    "    digit=n1%10\n",
    "    count=count+1\n",
    "    n1=n1//10\n",
    "print(count)\n",
    "mid=count//2\n",
    "print(mid)\n",
    "n1=n\n",
    "while mid>0:\n",
    "    n1=n1//10\n",
    "    mid-=1\n",
    "print(n1)\n",
    "print(n1%10)\n",
    "    \n",
    "    "
   ]
  },
  {
   "cell_type": "code",
   "execution_count": 34,
   "metadata": {},
   "outputs": [
    {
     "name": "stdout",
     "output_type": "stream",
     "text": [
      "5\n",
      "2\n",
      "123\n",
      "3\n"
     ]
    }
   ],
   "source": [
    "n=int(input())\n",
    "count=0\n",
    "n1=n\n",
    "digit=n1%10\n",
    "\n",
    "print(digit)\n",
    "while n1>0:\n",
    "    digit=n1%10\n",
    "    count=count+1\n",
    "    n1=n1//10\n",
    "\n",
    "mid=count//2\n",
    "print(mid)\n",
    "n1=n\n",
    "while mid>0:\n",
    "    n1=n1//10\n",
    "    mid-=1\n",
    "print(n1)\n",
    "print(n1%10)"
   ]
  },
  {
   "cell_type": "code",
   "execution_count": 32,
   "metadata": {},
   "outputs": [
    {
     "name": "stdout",
     "output_type": "stream",
     "text": [
      "9\n"
     ]
    }
   ],
   "source": [
    "n=int(input())\n",
    "count=0\n",
    "while n>0:\n",
    "    digit=n%10\n",
    "    count=count+1\n",
    "    n=n//10\n",
    "print(count)"
   ]
  },
  {
   "cell_type": "code",
   "execution_count": null,
   "metadata": {},
   "outputs": [],
   "source": [
    "#sum of firsr ,last,middle digit\n",
    "n=int(input())\n",
    "d1=n%10\n",
    "print(d1)\n",
    "temp=n\n",
    "while n>0:\n",
    "    d2=n%10\n",
    "    n=n//10\n",
    "print(d2)\n",
    "temp=0\n",
    "count=0\n",
    "while n>0:\n",
    "    d3=n%10\n",
    "    count+=1\n",
    "    n=n//10\n",
    "mid=count//2\n",
    "while mid>0:\n",
    "    n=n//10\n",
    "    mid-=1\n",
    "d3=n%10\n",
    "print(d3)"
   ]
  },
  {
   "cell_type": "code",
   "execution_count": 7,
   "metadata": {},
   "outputs": [
    {
     "name": "stdout",
     "output_type": "stream",
     "text": [
      "5\n",
      "1\n",
      "0\n"
     ]
    }
   ],
   "source": [
    "#sum of firsr ,last,middle digit\n",
    "n=int(input())\n",
    "temp=n\n",
    "d1=n%10\n",
    "print(d1)\n",
    "temp=n\n",
    "while n>0:\n",
    "    d2=n%10\n",
    "    n=n//10\n",
    "print(d2)\n",
    "temp=n\n",
    "count=0\n",
    "while n>0:\n",
    "    d=n%10\n",
    "    count+=1\n",
    "    n=n//10\n",
    "mid=count//2\n",
    "temp=n\n",
    "while mid>0:\n",
    "    n=n//10\n",
    "    mid-=1\n",
    "d3=n%10\n",
    "print(d3)"
   ]
  },
  {
   "cell_type": "code",
   "execution_count": null,
   "metadata": {},
   "outputs": [],
   "source": [
    "#sum of firsr ,last,middle digit\n",
    "n=int(input())\n",
    "d1=n%10\n",
    "print(d1)\n",
    "temp=n\n",
    "while n>0:\n",
    "    d2=n%10\n",
    "    n=n//10\n",
    "print(d2)\n",
    "temp=0\n",
    "count=0\n",
    "while n>0:\n",
    "    d3=n%10\n",
    "    count+=1\n",
    "    n=n//10\n",
    "mid=count//2\n",
    "while mid>0:\n",
    "    n=n//10\n",
    "    mid-=1\n",
    "d3=n%10\n",
    "print(d3)"
   ]
  },
  {
   "cell_type": "code",
   "execution_count": 8,
   "metadata": {},
   "outputs": [
    {
     "name": "stdout",
     "output_type": "stream",
     "text": [
      "9\n",
      "4\n",
      "1\n"
     ]
    }
   ],
   "source": [
    "n=int(input())\n",
    "while n>0:\n",
    "    d=n%10\n",
    "    print(d**2)\n",
    "    n=n//10\n"
   ]
  },
  {
   "cell_type": "code",
   "execution_count": 13,
   "metadata": {},
   "outputs": [
    {
     "name": "stdout",
     "output_type": "stream",
     "text": [
      "8\n",
      "16\n",
      "not a spy\n"
     ]
    }
   ],
   "source": [
    "#spy number\n",
    "n=int(input())\n",
    "sum=0\n",
    "prod=1\n",
    "while n>0:\n",
    "    d=n%10\n",
    "    sum=sum+d\n",
    "    prod=prod*d\n",
    "    n=n//10\n",
    "print(sum)\n",
    "print(prod)\n",
    "\n",
    "if sum==prod:\n",
    "    print(\"spy\")\n",
    "else:\n",
    "    print(\"not a spy\")"
   ]
  },
  {
   "cell_type": "code",
   "execution_count": 15,
   "metadata": {},
   "outputs": [
    {
     "name": "stdout",
     "output_type": "stream",
     "text": [
      "654\n"
     ]
    }
   ],
   "source": [
    "#reverse of a number\n",
    "n=int(input())\n",
    "rev=0\n",
    "while n>0:\n",
    "    d=n%10\n",
    "    rev=rev*10+d\n",
    "    n=n//10\n",
    "print(rev)\n",
    "\n"
   ]
  },
  {
   "cell_type": "code",
   "execution_count": 19,
   "metadata": {},
   "outputs": [
    {
     "name": "stdout",
     "output_type": "stream",
     "text": [
      "321\n",
      "not a palindrome\n"
     ]
    }
   ],
   "source": [
    "#palindrome number\n",
    "n=int(input())\n",
    "temp=n\n",
    "rev=0\n",
    "while n>0:\n",
    "    d=n%10\n",
    "    rev=rev*10+d\n",
    "    n=n//10\n",
    "print(rev)\n",
    "if temp==rev:\n",
    "    print(\"palindrome\")\n",
    "else:\n",
    "    print(\"not a palindrome\")\n"
   ]
  },
  {
   "cell_type": "code",
   "execution_count": 23,
   "metadata": {},
   "outputs": [
    {
     "name": "stdout",
     "output_type": "stream",
     "text": [
      "1\n",
      "not a palindrome\n"
     ]
    }
   ],
   "source": [
    "#sum of each digit pf a given number is a palindrome number/not\n",
    "n=int(input())\n",
    "sum=0\n",
    "\n",
    "while n>0:\n",
    "    d=n%10\n",
    "    sum=sum+d\n",
    "    n=n//10\n",
    "rev=0\n",
    "s1=sum\n",
    "while sum>0:\n",
    "    d=sum%10\n",
    "    rev=rev*10+d\n",
    "    sum=sum//10\n",
    "print(rev)\n",
    "if s1==rev:\n",
    "    print(\"palindrome\")\n",
    "else:\n",
    "    print(\"not a palindrome\")"
   ]
  },
  {
   "cell_type": "code",
   "execution_count": null,
   "metadata": {},
   "outputs": [],
   "source": [
    "#sum of firsr ,last,middle digit\n",
    "n=int(input())\n",
    "d1=n%10\n",
    "print(d1)\n",
    "temp=n\n",
    "while n>0:\n",
    "    d2=n%10\n",
    "    n=n//10\n",
    "print(d2)\n",
    "temp=0\n",
    "count=0\n",
    "while n>0:\n",
    "    d3=n%10\n",
    "    count+=1\n",
    "    n=n//10\n",
    "mid=count//2\n",
    "while mid>0:\n",
    "    n=n//10\n",
    "    mid-=1\n",
    "d3=n%10\n",
    "print(d3)"
   ]
  },
  {
   "cell_type": "code",
   "execution_count": 35,
   "metadata": {},
   "outputs": [
    {
     "name": "stdout",
     "output_type": "stream",
     "text": [
      "5\n",
      "1\n",
      "3\n",
      "9\n"
     ]
    }
   ],
   "source": [
    "n=int(input())\n",
    "d1=n%10\n",
    "print(d1)\n",
    "n1=n\n",
    "while n1>0:\n",
    "    d2=n1%10\n",
    "    n1=n1//10\n",
    "print(d2)\n",
    "n1=n\n",
    "count=0\n",
    "while n1>0:\n",
    "    d=n1%10\n",
    "    count=count+1\n",
    "    n1=n1//10\n",
    "n1=n\n",
    "mid=count//2\n",
    "while mid>0:\n",
    "    n1=n1//10\n",
    "    mid-=1\n",
    "d3=n1%10\n",
    "print(d3)\n",
    "sum=d1+d2+d3\n",
    "print(sum)\n"
   ]
  },
  {
   "cell_type": "code",
   "execution_count": 45,
   "metadata": {},
   "outputs": [
    {
     "name": "stdout",
     "output_type": "stream",
     "text": [
      "108\n",
      "801\n",
      "not a palindrome\n"
     ]
    }
   ],
   "source": [
    "ch=input()\n",
    "n=ord(ch)\n",
    "print(n)\n",
    "n1=n\n",
    "rev=0\n",
    "while n>0:\n",
    "    d=n%10\n",
    "    rev=rev*10+d\n",
    "    n=n//10\n",
    "print(rev)\n",
    "if n1==rev:\n",
    "    print(\"palindrome\")\n",
    "else:\n",
    "    print(\"not a palindrome\")\n"
   ]
  },
  {
   "cell_type": "code",
   "execution_count": 1,
   "metadata": {},
   "outputs": [
    {
     "name": "stdout",
     "output_type": "stream",
     "text": [
      "hello world\n",
      "hello world\n",
      "hello world\n",
      "hello world\n",
      "hello world\n"
     ]
    }
   ],
   "source": [
    "#print hello world for 5 times\n",
    "i=1\n",
    "while i<=5:\n",
    "    print(\"hello world\")\n",
    "    i+=1\n"
   ]
  },
  {
   "cell_type": "code",
   "execution_count": 4,
   "metadata": {},
   "outputs": [
    {
     "name": "stdout",
     "output_type": "stream",
     "text": [
      "720\n"
     ]
    }
   ],
   "source": [
    "i=6\n",
    "fact=1\n",
    "while i>=1:\n",
    "    fact=fact*i\n",
    "    i-=1\n",
    "print(fact)\n",
    "\n"
   ]
  },
  {
   "cell_type": "code",
   "execution_count": 5,
   "metadata": {},
   "outputs": [
    {
     "name": "stdout",
     "output_type": "stream",
     "text": [
      "25\n",
      "16\n",
      "9\n",
      "4\n",
      "1\n"
     ]
    }
   ],
   "source": [
    "i=5\n",
    "while i>=1:\n",
    "    print(i**2)\n",
    "    i-=1\n"
   ]
  }
 ],
 "metadata": {
  "kernelspec": {
   "display_name": "Python 3",
   "language": "python",
   "name": "python3"
  },
  "language_info": {
   "codemirror_mode": {
    "name": "ipython",
    "version": 3
   },
   "file_extension": ".py",
   "mimetype": "text/x-python",
   "name": "python",
   "nbconvert_exporter": "python",
   "pygments_lexer": "ipython3",
   "version": "3.12.2"
  }
 },
 "nbformat": 4,
 "nbformat_minor": 2
}
