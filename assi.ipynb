{
 "cells": [
  {
   "cell_type": "code",
   "execution_count": 8,
   "metadata": {},
   "outputs": [
    {
     "name": "stdout",
     "output_type": "stream",
     "text": [
      "3\n"
     ]
    }
   ],
   "source": [
    "n = int(input(\"Enter a number: \"))\n",
    "prime_digits = [2, 3, 5, 7]\n",
    "count = 0\n",
    "\n",
    "while n > 0:\n",
    "    d= n % 10\n",
    "    if d in prime_digits:\n",
    "        count += 1\n",
    "    n //= 10\n",
    "\n",
    "print( count)"
   ]
  },
  {
   "cell_type": "code",
   "execution_count": 29,
   "metadata": {},
   "outputs": [
    {
     "name": "stdout",
     "output_type": "stream",
     "text": [
      "3\n"
     ]
    }
   ],
   "source": [
    "#1\n",
    "n=int(input())\n",
    "c1=0\n",
    "while n>0:\n",
    "    d=n%10\n",
    "    i=1\n",
    "    c=0\n",
    "    while i<=d:\n",
    "        if d%i==0:\n",
    "            c+=1\n",
    "        i+=1\n",
    "    if c==2:\n",
    "        c1+=1\n",
    "    n//=10\n",
    "print(c1)"
   ]
  },
  {
   "cell_type": "code",
   "execution_count": 10,
   "metadata": {},
   "outputs": [
    {
     "name": "stdout",
     "output_type": "stream",
     "text": [
      "4\n",
      "not prime\n"
     ]
    }
   ],
   "source": [
    "#wap to count the prime digits from the number\n",
    "n=int(input())\n",
    "i=1\n",
    "c=0\n",
    "while i<=n:\n",
    "    if n%i==0:\n",
    "        c=c+1\n",
    "        \n",
    "    i+=1\n",
    "print(c)\n",
    "\n",
    "if c==2:\n",
    "    print(\"prime\")\n",
    "else:\n",
    "    print(\"not prime\")\n"
   ]
  },
  {
   "cell_type": "code",
   "execution_count": 16,
   "metadata": {},
   "outputs": [
    {
     "name": "stdout",
     "output_type": "stream",
     "text": [
      "armstrong num\n"
     ]
    }
   ],
   "source": [
    "#2\n",
    "n=int(input())\n",
    "n1=n\n",
    "c=0\n",
    "while n>0:\n",
    "    d=n%10\n",
    "    c+=1\n",
    "    n//=10\n",
    "n=n1\n",
    "sum=0\n",
    "while n>0:\n",
    "    d=n%10\n",
    "    d1=d**c\n",
    "    sum+=d1\n",
    "    n//=10\n",
    "if (sum==n1):\n",
    "    print(\"armstrong num\")\n",
    "else:\n",
    "    print(\"not an armstrong num\")"
   ]
  },
  {
   "cell_type": "code",
   "execution_count": 25,
   "metadata": {},
   "outputs": [
    {
     "name": "stdout",
     "output_type": "stream",
     "text": [
      "5\n",
      "not a strong num\n"
     ]
    }
   ],
   "source": [
    "#3\n",
    "n=int(input())\n",
    "c=0\n",
    "while n>0:\n",
    "    d=n%10\n",
    "    c+=1\n",
    "    n//=10\n",
    "print(c)\n",
    "s=0\n",
    "while c>0:\n",
    "    d=c%10\n",
    "    fact=1\n",
    "    i=1\n",
    "    while i<=d:\n",
    "        fact*=i\n",
    "        i+=1\n",
    "    c//=10\n",
    "    if fact==c:\n",
    "        c1=c\n",
    "        print(\"strong\")\n",
    "        rev=0\n",
    "        while fact>0:\n",
    "            d=fact%10\n",
    "            rev=rev*10+d\n",
    "            fact//=10\n",
    "        if rev==c1:\n",
    "            print(\"palindrome\")\n",
    "        else:\n",
    "            print(\"not a palindrome\")\n",
    "    else:\n",
    "        print(\"not a strong num\")\n",
    "\n"
   ]
  },
  {
   "cell_type": "code",
   "execution_count": 26,
   "metadata": {},
   "outputs": [
    {
     "name": "stdout",
     "output_type": "stream",
     "text": [
      "5\n",
      "spy\n"
     ]
    }
   ],
   "source": [
    "#4\n",
    "n=int(input())\n",
    "sum=0\n",
    "while n>0:\n",
    "    d=n%10\n",
    "    i=1\n",
    "    c=0\n",
    "    while i<=d:\n",
    "        if d%i==0:\n",
    "            c+=1\n",
    "        i+=1\n",
    "    if c==2:\n",
    "        sum+=d\n",
    "    n//=10\n",
    "print(sum)\n",
    "sum1=sum\n",
    "prod=1\n",
    "while sum>0:\n",
    "    d=sum%10\n",
    "    prod*=d\n",
    "    sum//=10\n",
    "if sum1==prod:\n",
    "    print(\"spy\")\n",
    "else:\n",
    "    print(\"not a spy\")"
   ]
  },
  {
   "cell_type": "code",
   "execution_count": 27,
   "metadata": {},
   "outputs": [
    {
     "name": "stdout",
     "output_type": "stream",
     "text": [
      "3\n",
      "palindrome\n"
     ]
    }
   ],
   "source": [
    "#5\n",
    "n=int(input())\n",
    "c=0\n",
    "i=1\n",
    "while i<=n:\n",
    "    if n%i==0:\n",
    "        c+=1\n",
    "    i+=1\n",
    "print(c)\n",
    "n=c\n",
    "rev=0\n",
    "while c>0:\n",
    "        d=c%10\n",
    "        rev=rev*10+d\n",
    "        c//=10\n",
    "if rev==n:\n",
    "    print(\"palindrome\")\n",
    "else:\n",
    "    print(\"not a palindrome\")"
   ]
  },
  {
   "cell_type": "code",
   "execution_count": 31,
   "metadata": {},
   "outputs": [],
   "source": [
    "n=int(input())\n",
    "i=1\n",
    "fact=0\n",
    "while n>0:\n",
    "    d=n%10\n",
    "    fact=fact+d\n",
    "    n=n//10\n",
    "\n",
    "print(fact)\n"
   ]
  }
 ],
 "metadata": {
  "kernelspec": {
   "display_name": "Python 3",
   "language": "python",
   "name": "python3"
  },
  "language_info": {
   "codemirror_mode": {
    "name": "ipython",
    "version": 3
   },
   "file_extension": ".py",
   "mimetype": "text/x-python",
   "name": "python",
   "nbconvert_exporter": "python",
   "pygments_lexer": "ipython3",
   "version": "3.12.2"
  }
 },
 "nbformat": 4,
 "nbformat_minor": 2
}
