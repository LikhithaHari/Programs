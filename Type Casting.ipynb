{
 "cells": [
  {
   "cell_type": "code",
   "execution_count": 9,
   "metadata": {},
   "outputs": [
    {
     "name": "stdout",
     "output_type": "stream",
     "text": [
      "50.0\n",
      "(50+0j)\n",
      "True\n",
      "50\n"
     ]
    },
    {
     "ename": "TypeError",
     "evalue": "'int' object is not iterable",
     "output_type": "error",
     "traceback": [
      "\u001b[1;31m---------------------------------------------------------------------------\u001b[0m",
      "\u001b[1;31mTypeError\u001b[0m                                 Traceback (most recent call last)",
      "Cell \u001b[1;32mIn[9], line 10\u001b[0m\n\u001b[0;32m      6\u001b[0m \u001b[38;5;28mprint\u001b[39m(\u001b[38;5;28mstr\u001b[39m(a))\n\u001b[0;32m      7\u001b[0m \u001b[38;5;66;03m#print(list(a))\u001b[39;00m\n\u001b[0;32m      8\u001b[0m \u001b[38;5;66;03m#print(tuple(a))\u001b[39;00m\n\u001b[0;32m      9\u001b[0m \u001b[38;5;66;03m#print(set(a))\u001b[39;00m\n\u001b[1;32m---> 10\u001b[0m \u001b[38;5;28mprint\u001b[39m(\u001b[38;5;28;43mdict\u001b[39;49m\u001b[43m(\u001b[49m\u001b[43ma\u001b[49m\u001b[43m)\u001b[49m)\n",
      "\u001b[1;31mTypeError\u001b[0m: 'int' object is not iterable"
     ]
    }
   ],
   "source": [
    "#converting int ----> another data\n",
    "a=50\n",
    "print(float(a))\n",
    "print(complex(a))\n",
    "print(bool(a))\n",
    "print(str(a))\n",
    "#print(list(a))\n",
    "#print(tuple(a))\n",
    "#print(set(a))\n",
    "#print(dict(a))\n"
   ]
  },
  {
   "cell_type": "code",
   "execution_count": 10,
   "metadata": {},
   "outputs": [
    {
     "name": "stdout",
     "output_type": "stream",
     "text": [
      "10\n",
      "(10.2+0j)\n",
      "True\n",
      "10.2\n"
     ]
    }
   ],
   "source": [
    "#converting float----> another data\n",
    "f=10.2\n",
    "print(int(f))\n",
    "print(complex(f))\n",
    "print(bool(f))\n",
    "print(str(f))"
   ]
  },
  {
   "cell_type": "code",
   "execution_count": 14,
   "metadata": {},
   "outputs": [
    {
     "name": "stdout",
     "output_type": "stream",
     "text": [
      "True\n",
      "(10+2j)\n"
     ]
    }
   ],
   "source": [
    "#converting complex---> another data\n",
    "c=10+2j\n",
    "#print(int(c))\n",
    "#print(float(c))\n",
    "print(bool(c))\n",
    "print(str(c))"
   ]
  },
  {
   "cell_type": "code",
   "execution_count": 20,
   "metadata": {},
   "outputs": [
    {
     "name": "stdout",
     "output_type": "stream",
     "text": [
      "1\n",
      "1.0\n",
      "(1+0j)\n",
      "True\n"
     ]
    }
   ],
   "source": [
    "#converting bool--->another data\n",
    "b=True\n",
    "print(int(b))\n",
    "print(float(b))\n",
    "print(complex(b))\n",
    "print(str(b))"
   ]
  },
  {
   "cell_type": "code",
   "execution_count": 30,
   "metadata": {},
   "outputs": [
    {
     "name": "stdout",
     "output_type": "stream",
     "text": [
      "123\n",
      "123.2\n",
      "321.0\n",
      "(123.2+0j)\n",
      "(321+0j)\n",
      "(1+2j)\n",
      "False\n",
      "True\n",
      "['r', 'a', 'j', 'a']\n",
      "('r', 'a', 'j', 'a')\n",
      "{'j', 'a', 'r'}\n"
     ]
    },
    {
     "ename": "ValueError",
     "evalue": "dictionary update sequence element #0 has length 1; 2 is required",
     "output_type": "error",
     "traceback": [
      "\u001b[1;31m---------------------------------------------------------------------------\u001b[0m",
      "\u001b[1;31mValueError\u001b[0m                                Traceback (most recent call last)",
      "Cell \u001b[1;32mIn[30], line 28\u001b[0m\n\u001b[0;32m     26\u001b[0m \u001b[38;5;66;03m#converting str--->dict(it is not possible)\u001b[39;00m\n\u001b[0;32m     27\u001b[0m st\u001b[38;5;241m=\u001b[39m\u001b[38;5;124m\"\u001b[39m\u001b[38;5;124mraja\u001b[39m\u001b[38;5;124m\"\u001b[39m\n\u001b[1;32m---> 28\u001b[0m \u001b[38;5;28mprint\u001b[39m(\u001b[38;5;28;43mdict\u001b[39;49m\u001b[43m(\u001b[49m\u001b[43mst\u001b[49m\u001b[43m)\u001b[49m)\n",
      "\u001b[1;31mValueError\u001b[0m: dictionary update sequence element #0 has length 1; 2 is required"
     ]
    }
   ],
   "source": [
    "#converting str --->int\n",
    "st=\"123\"\n",
    "print(int(st))\n",
    "#converting str--->float\n",
    "st=\"123.20\"\n",
    "st1=\"321\"\n",
    "print(float(st))\n",
    "print(float(st1))\n",
    "#converting str--->complex\n",
    "st1=\"123.20\"\n",
    "st2=\"321\"\n",
    "st3=\"1+2j\"\n",
    "print(complex(st1))\n",
    "print(complex(st2))\n",
    "print(complex(st3))\n",
    "#converting str--->bool\n",
    "st=\"\"\n",
    "st1=\"raja\"\n",
    "print(bool(st))\n",
    "print(bool(st1))\n",
    "#converting str--->list,tuple,set\n",
    "st=\"raja\"\n",
    "print(list(st))\n",
    "print(tuple(st))\n",
    "print(set(st))\n",
    "#converting str--->dict(it is not possible)\n",
    "st=\"raja\"\n",
    "print(dict(st))"
   ]
  },
  {
   "cell_type": "code",
   "execution_count": 6,
   "metadata": {},
   "outputs": [
    {
     "name": "stdout",
     "output_type": "stream",
     "text": [
      "[1, 2, 3]\n",
      "[1, 2, 3]\n",
      "3\n",
      "(1, 2, 3)\n",
      "{1, 2, 3}\n",
      "{'name': 'jack', 'age': 23}\n"
     ]
    }
   ],
   "source": [
    "#converting list data into another data\n",
    "l=[1,2,3]\n",
    "print(l)\n",
    "print(str(l))\n",
    "print((l)[2])\n",
    "print(tuple(l))\n",
    "print(set(l))\n",
    "#print(dict(l))---->it doesnt support\n",
    "l1=[(\"name\",\"jack\"),[\"age\",23]]\n",
    "print(dict(l1))"
   ]
  },
  {
   "cell_type": "code",
   "execution_count": 16,
   "metadata": {},
   "outputs": [
    {
     "name": "stdout",
     "output_type": "stream",
     "text": [
      "(100, 200, 'raja', 'rani')\n",
      "(100, 200, 'raja', 'rani')\n",
      "'\n",
      "a\n",
      "[100, 200, 'raja', 'rani']\n",
      "{200, 'raja', 100, 'rani'}\n",
      "{1: 2, 'car': 'audi', 'raja': 'rani'}\n"
     ]
    }
   ],
   "source": [
    "#converting tuple data  into another data\n",
    "t=(100,200,\"raja\",\"rani\")\n",
    "print(t)\n",
    "print(str(t))\n",
    "print(str(t)[-2])\n",
    "print(str(t)[-5])\n",
    "print(list(t))\n",
    "print(set(t))\n",
    "#print(dict(t))----> it doesnt support\n",
    "t1=([1,2],[\"car\",\"audi\"],{\"raja\",\"rani\"})\n",
    "print(dict(t1))"
   ]
  },
  {
   "cell_type": "code",
   "execution_count": 22,
   "metadata": {},
   "outputs": [
    {
     "name": "stdout",
     "output_type": "stream",
     "text": [
      "{1, 2, 3, 4}\n",
      "[1, 2, 3, 4]\n",
      "(1, 2, 3, 4)\n",
      "{1: 2, 3: 4}\n"
     ]
    }
   ],
   "source": [
    "#converting set data into another data\n",
    "s={1,2,3,4}\n",
    "print(str(s))     \n",
    "print(list(s))    \n",
    "print(tuple(s))  \n",
    "#print(dict(s)) --->not possible\n",
    "s1={(1,2),(3,4)} \n",
    "print(dict(s1))                  "
   ]
  },
  {
   "cell_type": "code",
   "execution_count": 27,
   "metadata": {},
   "outputs": [
    {
     "name": "stdout",
     "output_type": "stream",
     "text": [
      "{'name': 'liki', 'age': 21}\n",
      "{'name': 'liki', 'age': 21}\n",
      "['name', 'age']\n",
      "('name', 'age')\n",
      "{'age', 'name'}\n"
     ]
    }
   ],
   "source": [
    "#converting dict data into another data\n",
    "dict={'name':'liki','age':21}\n",
    "print(dict)\n",
    "print(str(dict))\n",
    "print(list(dict))\n",
    "print(tuple(dict))\n",
    "print(set(dict))"
   ]
  }
 ],
 "metadata": {
  "kernelspec": {
   "display_name": "Python 3",
   "language": "python",
   "name": "python3"
  },
  "language_info": {
   "codemirror_mode": {
    "name": "ipython",
    "version": 3
   },
   "file_extension": ".py",
   "mimetype": "text/x-python",
   "name": "python",
   "nbconvert_exporter": "python",
   "pygments_lexer": "ipython3",
   "version": "3.12.2"
  }
 },
 "nbformat": 4,
 "nbformat_minor": 2
}
