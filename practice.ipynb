{
 "cells": [
  {
   "cell_type": "code",
   "execution_count": 2,
   "metadata": {},
   "outputs": [
    {
     "name": "stdout",
     "output_type": "stream",
     "text": [
      "Hello Goodafternoon\n",
      "Had your Lunch\n",
      "Program end\n"
     ]
    }
   ],
   "source": [
    "num=int(input())\n",
    "if num>6:\n",
    "    print(\"Hello Goodafternoon\")\n",
    "    print(\"Had your Lunch\")\n",
    "print(\"Program end\")"
   ]
  },
  {
   "cell_type": "code",
   "execution_count": 5,
   "metadata": {},
   "outputs": [
    {
     "name": "stdout",
     "output_type": "stream",
     "text": [
      "24\n",
      "program end\n"
     ]
    }
   ],
   "source": [
    "num=int(input())\n",
    "if num>=10 and num<=15:\n",
    "    print(num*2)\n",
    "print(\"program end\")"
   ]
  },
  {
   "cell_type": "code",
   "execution_count": 9,
   "metadata": {},
   "outputs": [
    {
     "name": "stdout",
     "output_type": "stream",
     "text": [
      "48\n",
      "Program end\n"
     ]
    }
   ],
   "source": [
    "num=int(input())\n",
    "lastdigit=num%10\n",
    "if lastdigit  % 3==0:\n",
    "    print(num*3)\n",
    "print(\"Program end\")"
   ]
  },
  {
   "cell_type": "code",
   "execution_count": 14,
   "metadata": {},
   "outputs": [
    {
     "name": "stdout",
     "output_type": "stream",
     "text": [
      "A\n"
     ]
    }
   ],
   "source": [
    "ch=input()\n",
    "if ch>=\"a\" and ch<=\"z\":\n",
    "    print(ch.upper())\n",
    "\n"
   ]
  },
  {
   "cell_type": "code",
   "execution_count": 17,
   "metadata": {},
   "outputs": [
    {
     "name": "stdout",
     "output_type": "stream",
     "text": [
      "65\n"
     ]
    }
   ],
   "source": [
    "ch=input()\n",
    "if (ch>=\"a\" and ch<=\"z\") or (ch>=\"A\" and ch<=\"Z\"):\n",
    "    print(ord(ch))"
   ]
  },
  {
   "cell_type": "code",
   "execution_count": 20,
   "metadata": {},
   "outputs": [
    {
     "name": "stdout",
     "output_type": "stream",
     "text": [
      "54\n",
      "4\n"
     ]
    }
   ],
   "source": [
    "ch=input()\n",
    "if ch>=\"0\" and ch<=\"9\":\n",
    "    asc=(ord(ch))\n",
    "    lastdigit=asc%10\n",
    "    print(asc)\n",
    "    print(lastdigit)\n"
   ]
  }
 ],
 "metadata": {
  "kernelspec": {
   "display_name": "Python 3",
   "language": "python",
   "name": "python3"
  },
  "language_info": {
   "codemirror_mode": {
    "name": "ipython",
    "version": 3
   },
   "file_extension": ".py",
   "mimetype": "text/x-python",
   "name": "python",
   "nbconvert_exporter": "python",
   "pygments_lexer": "ipython3",
   "version": "3.12.2"
  }
 },
 "nbformat": 4,
 "nbformat_minor": 2
}
