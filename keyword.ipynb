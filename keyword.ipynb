{
 "cells": [
  {
   "cell_type": "code",
   "execution_count": 1,
   "metadata": {},
   "outputs": [
    {
     "name": "stdout",
     "output_type": "stream",
     "text": [
      "False\n",
      "None\n",
      "True\n",
      "and\n",
      "as\n",
      "assert\n",
      "async\n",
      "await\n",
      "break\n",
      "class\n",
      "continue\n",
      "def\n",
      "del\n",
      "elif\n",
      "else\n",
      "except\n",
      "finally\n",
      "for\n",
      "from\n",
      "global\n",
      "if\n",
      "import\n",
      "in\n",
      "is\n",
      "lambda\n",
      "nonlocal\n",
      "not\n",
      "or\n",
      "pass\n",
      "raise\n",
      "return\n",
      "try\n",
      "while\n",
      "with\n",
      "yield\n"
     ]
    }
   ],
   "source": [
    "import keyword\n",
    "for i in keyword.kwlist:\n",
    "    print(i)\n"
   ]
  },
  {
   "cell_type": "code",
   "execution_count": 2,
   "metadata": {},
   "outputs": [
    {
     "name": "stdout",
     "output_type": "stream",
     "text": [
      "['False', 'None', 'True', 'and', 'as', 'assert', 'async', 'await', 'break', 'class', 'continue', 'def', 'del', 'elif', 'else', 'except', 'finally', 'for', 'from', 'global', 'if', 'import', 'in', 'is', 'lambda', 'nonlocal', 'not', 'or', 'pass', 'raise', 'return', 'try', 'while', 'with', 'yield']\n"
     ]
    }
   ],
   "source": [
    "import keyword\n",
    "print(keyword.kwlist)"
   ]
  }
 ],
 "metadata": {
  "kernelspec": {
   "display_name": "Python 3",
   "language": "python",
   "name": "python3"
  },
  "language_info": {
   "codemirror_mode": {
    "name": "ipython",
    "version": 3
   },
   "file_extension": ".py",
   "mimetype": "text/x-python",
   "name": "python",
   "nbconvert_exporter": "python",
   "pygments_lexer": "ipython3",
   "version": "3.12.2"
  }
 },
 "nbformat": 4,
 "nbformat_minor": 2
}
